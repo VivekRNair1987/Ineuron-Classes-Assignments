{
 "cells": [
  {
   "cell_type": "code",
   "execution_count": 1,
   "id": "1da3e85b",
   "metadata": {},
   "outputs": [],
   "source": [
    "import pandas as pd\n",
    "import numpy as np\n",
    "import matplotlib.pyplot as plt\n",
    "%matplotlib inline\n",
    "import seaborn as sns"
   ]
  },
  {
   "cell_type": "code",
   "execution_count": 2,
   "id": "8e30742e",
   "metadata": {},
   "outputs": [],
   "source": [
    "from sklearn.datasets import load_boston"
   ]
  },
  {
   "cell_type": "code",
   "execution_count": 3,
   "id": "d579fb5a",
   "metadata": {},
   "outputs": [],
   "source": [
    "data = load_boston()"
   ]
  },
  {
   "cell_type": "code",
   "execution_count": 5,
   "id": "859df469",
   "metadata": {},
   "outputs": [
    {
     "data": {
      "text/plain": [
       "sklearn.utils.Bunch"
      ]
     },
     "execution_count": 5,
     "metadata": {},
     "output_type": "execute_result"
    }
   ],
   "source": [
    "type(data)"
   ]
  },
  {
   "cell_type": "code",
   "execution_count": 7,
   "id": "0d55b613",
   "metadata": {},
   "outputs": [
    {
     "data": {
      "text/plain": [
       "dict_keys(['data', 'target', 'feature_names', 'DESCR', 'filename'])"
      ]
     },
     "execution_count": 7,
     "metadata": {},
     "output_type": "execute_result"
    }
   ],
   "source": [
    "data.keys()"
   ]
  },
  {
   "cell_type": "code",
   "execution_count": 10,
   "id": "98fdc648",
   "metadata": {},
   "outputs": [],
   "source": [
    "x = data.data"
   ]
  },
  {
   "cell_type": "code",
   "execution_count": 11,
   "id": "b9fd7e2a",
   "metadata": {},
   "outputs": [],
   "source": [
    "y = data.target"
   ]
  },
  {
   "cell_type": "code",
   "execution_count": 12,
   "id": "aef0f9ae",
   "metadata": {},
   "outputs": [],
   "source": [
    "from sklearn.model_selection import train_test_split"
   ]
  },
  {
   "cell_type": "code",
   "execution_count": 13,
   "id": "126665e0",
   "metadata": {},
   "outputs": [],
   "source": [
    "X_train, X_test, y_train, y_test = train_test_split(x,y,test_size=0.2, random_state=23)"
   ]
  },
  {
   "cell_type": "code",
   "execution_count": 15,
   "id": "45122777",
   "metadata": {},
   "outputs": [
    {
     "data": {
      "text/plain": [
       "((404, 13), (102, 13), (404,), (102,))"
      ]
     },
     "execution_count": 15,
     "metadata": {},
     "output_type": "execute_result"
    }
   ],
   "source": [
    "X_train.shape, X_test.shape, y_train.shape, y_test.shape"
   ]
  },
  {
   "cell_type": "code",
   "execution_count": null,
   "id": "2fd08b1e",
   "metadata": {},
   "outputs": [],
   "source": []
  },
  {
   "cell_type": "markdown",
   "id": "38ffbd86",
   "metadata": {},
   "source": [
    "### Linear Regression "
   ]
  },
  {
   "cell_type": "code",
   "execution_count": 19,
   "id": "38ce8a90",
   "metadata": {},
   "outputs": [],
   "source": [
    "from sklearn.linear_model import LinearRegression"
   ]
  },
  {
   "cell_type": "code",
   "execution_count": 20,
   "id": "aba26392",
   "metadata": {},
   "outputs": [],
   "source": [
    "lr = LinearRegression()"
   ]
  },
  {
   "cell_type": "code",
   "execution_count": 21,
   "id": "5cd21385",
   "metadata": {},
   "outputs": [
    {
     "data": {
      "text/plain": [
       "LinearRegression()"
      ]
     },
     "execution_count": 21,
     "metadata": {},
     "output_type": "execute_result"
    }
   ],
   "source": [
    "lr.fit(X_train,y_train)"
   ]
  },
  {
   "cell_type": "code",
   "execution_count": 24,
   "id": "46d4aa11",
   "metadata": {},
   "outputs": [],
   "source": [
    "y_pred = lr.predict(X_test)"
   ]
  },
  {
   "cell_type": "code",
   "execution_count": 28,
   "id": "283755fc",
   "metadata": {},
   "outputs": [
    {
     "data": {
      "text/html": [
       "<div>\n",
       "<style scoped>\n",
       "    .dataframe tbody tr th:only-of-type {\n",
       "        vertical-align: middle;\n",
       "    }\n",
       "\n",
       "    .dataframe tbody tr th {\n",
       "        vertical-align: top;\n",
       "    }\n",
       "\n",
       "    .dataframe thead th {\n",
       "        text-align: right;\n",
       "    }\n",
       "</style>\n",
       "<table border=\"1\" class=\"dataframe\">\n",
       "  <thead>\n",
       "    <tr style=\"text-align: right;\">\n",
       "      <th></th>\n",
       "      <th>Actual_Values</th>\n",
       "      <th>Predicted_Values</th>\n",
       "    </tr>\n",
       "  </thead>\n",
       "  <tbody>\n",
       "    <tr>\n",
       "      <th>0</th>\n",
       "      <td>23.2</td>\n",
       "      <td>25.615873</td>\n",
       "    </tr>\n",
       "    <tr>\n",
       "      <th>1</th>\n",
       "      <td>22.1</td>\n",
       "      <td>27.125867</td>\n",
       "    </tr>\n",
       "    <tr>\n",
       "      <th>2</th>\n",
       "      <td>20.6</td>\n",
       "      <td>27.208853</td>\n",
       "    </tr>\n",
       "    <tr>\n",
       "      <th>3</th>\n",
       "      <td>17.8</td>\n",
       "      <td>16.766034</td>\n",
       "    </tr>\n",
       "    <tr>\n",
       "      <th>4</th>\n",
       "      <td>41.7</td>\n",
       "      <td>38.008115</td>\n",
       "    </tr>\n",
       "    <tr>\n",
       "      <th>...</th>\n",
       "      <td>...</td>\n",
       "      <td>...</td>\n",
       "    </tr>\n",
       "    <tr>\n",
       "      <th>97</th>\n",
       "      <td>18.6</td>\n",
       "      <td>17.237610</td>\n",
       "    </tr>\n",
       "    <tr>\n",
       "      <th>98</th>\n",
       "      <td>22.0</td>\n",
       "      <td>27.688854</td>\n",
       "    </tr>\n",
       "    <tr>\n",
       "      <th>99</th>\n",
       "      <td>23.8</td>\n",
       "      <td>25.086056</td>\n",
       "    </tr>\n",
       "    <tr>\n",
       "      <th>100</th>\n",
       "      <td>13.9</td>\n",
       "      <td>17.711016</td>\n",
       "    </tr>\n",
       "    <tr>\n",
       "      <th>101</th>\n",
       "      <td>19.8</td>\n",
       "      <td>23.190182</td>\n",
       "    </tr>\n",
       "  </tbody>\n",
       "</table>\n",
       "<p>102 rows × 2 columns</p>\n",
       "</div>"
      ],
      "text/plain": [
       "     Actual_Values  Predicted_Values \n",
       "0             23.2          25.615873\n",
       "1             22.1          27.125867\n",
       "2             20.6          27.208853\n",
       "3             17.8          16.766034\n",
       "4             41.7          38.008115\n",
       "..             ...                ...\n",
       "97            18.6          17.237610\n",
       "98            22.0          27.688854\n",
       "99            23.8          25.086056\n",
       "100           13.9          17.711016\n",
       "101           19.8          23.190182\n",
       "\n",
       "[102 rows x 2 columns]"
      ]
     },
     "execution_count": 28,
     "metadata": {},
     "output_type": "execute_result"
    }
   ],
   "source": [
    "pd.DataFrame({\"Actual_Values\": y_test, \"Predicted_Values \": y_pred})"
   ]
  },
  {
   "cell_type": "code",
   "execution_count": 29,
   "id": "3770a3cb",
   "metadata": {},
   "outputs": [
    {
     "data": {
      "text/plain": [
       "37.01314334642491"
      ]
     },
     "execution_count": 29,
     "metadata": {},
     "output_type": "execute_result"
    }
   ],
   "source": [
    "lr.intercept_"
   ]
  },
  {
   "cell_type": "code",
   "execution_count": 30,
   "id": "20ffcad8",
   "metadata": {},
   "outputs": [
    {
     "data": {
      "text/plain": [
       "array([-1.02096701e-01,  4.65119270e-02,  1.49684450e-02,  3.30336317e+00,\n",
       "       -1.97258917e+01,  3.64434550e+00,  4.96665387e-03, -1.51069734e+00,\n",
       "        2.76148399e-01, -9.88072653e-03, -8.90677867e-01,  9.62981073e-03,\n",
       "       -5.58956664e-01])"
      ]
     },
     "execution_count": 30,
     "metadata": {},
     "output_type": "execute_result"
    }
   ],
   "source": [
    "lr.coef_"
   ]
  },
  {
   "cell_type": "code",
   "execution_count": 56,
   "id": "033f6951",
   "metadata": {},
   "outputs": [],
   "source": [
    "def adj_r2(x,y):\n",
    "    r2 = lr.score(x,y)\n",
    "    n = x.shape[0]\n",
    "    p = x.shape[1]\n",
    "    adjusted_r2 = 1-(1-r2)*(n-1)/(n-p-1)\n",
    "    return adjusted_r2"
   ]
  },
  {
   "cell_type": "code",
   "execution_count": 37,
   "id": "1b94ddcc",
   "metadata": {},
   "outputs": [],
   "source": [
    "from sklearn.metrics import mean_squared_error, r2_score"
   ]
  },
  {
   "cell_type": "code",
   "execution_count": 38,
   "id": "9766f93a",
   "metadata": {},
   "outputs": [
    {
     "name": "stdout",
     "output_type": "stream",
     "text": [
      "Mean Squared Value =  21.953471731537046\n"
     ]
    }
   ],
   "source": [
    "print(\"Mean Squared Value = \", mean_squared_error(y_test,y_pred))"
   ]
  },
  {
   "cell_type": "code",
   "execution_count": 39,
   "id": "b9acd8f5",
   "metadata": {},
   "outputs": [
    {
     "name": "stdout",
     "output_type": "stream",
     "text": [
      "Root Mean Squared Value =  4.685453204497623\n"
     ]
    }
   ],
   "source": [
    "print(\"Root Mean Squared Value = \", np.sqrt(mean_squared_error(y_test,y_pred)))"
   ]
  },
  {
   "cell_type": "code",
   "execution_count": 54,
   "id": "eaf7cbfe",
   "metadata": {},
   "outputs": [
    {
     "name": "stdout",
     "output_type": "stream",
     "text": [
      "R2 Score of Train data  =  0.7377734707180097\n"
     ]
    }
   ],
   "source": [
    "print(\"R2 Score of Train data  = \", lr.score(X_train,y_train))"
   ]
  },
  {
   "cell_type": "code",
   "execution_count": 53,
   "id": "8d9ef49b",
   "metadata": {},
   "outputs": [
    {
     "name": "stdout",
     "output_type": "stream",
     "text": [
      "R2 Score of Test data  =  0.7451430642919576\n"
     ]
    }
   ],
   "source": [
    "print(\"R2 Score of Test data  = \", lr.score(X_test,y_test))"
   ]
  },
  {
   "cell_type": "code",
   "execution_count": 57,
   "id": "208f9fae",
   "metadata": {},
   "outputs": [
    {
     "name": "stdout",
     "output_type": "stream",
     "text": [
      "Adjusted R2 Score  =  0.72903258640861\n"
     ]
    }
   ],
   "source": [
    "print(\"Adjusted R2 Score of train Data  = \" , adj_r2(X_train,y_train))"
   ]
  },
  {
   "cell_type": "code",
   "execution_count": 59,
   "id": "202a1a54",
   "metadata": {},
   "outputs": [
    {
     "name": "stdout",
     "output_type": "stream",
     "text": [
      "Adjusted R2 Score of Test Data  =  0.7074937442441787\n"
     ]
    }
   ],
   "source": [
    "print(\"Adjusted R2 Score of Test Data  = \" , adj_r2(X_test,y_test))"
   ]
  },
  {
   "cell_type": "markdown",
   "id": "88247ca6",
   "metadata": {},
   "source": [
    "### Lasso , Ridge , ElasticNet Regression"
   ]
  },
  {
   "cell_type": "code",
   "execution_count": 41,
   "id": "f2ee0ab8",
   "metadata": {},
   "outputs": [],
   "source": [
    "from sklearn.linear_model  import Ridge,Lasso,RidgeCV, LassoCV, ElasticNet, ElasticNetCV, LinearRegression"
   ]
  },
  {
   "cell_type": "code",
   "execution_count": 61,
   "id": "8811782b",
   "metadata": {},
   "outputs": [
    {
     "data": {
      "text/plain": [
       "LassoCV(cv=10, max_iter=100000, normalize=True)"
      ]
     },
     "execution_count": 61,
     "metadata": {},
     "output_type": "execute_result"
    }
   ],
   "source": [
    "lasscv = LassoCV(alphas = None,cv =10, max_iter = 100000, normalize = True)\n",
    "lasscv.fit(X_train, y_train)"
   ]
  },
  {
   "cell_type": "code",
   "execution_count": 62,
   "id": "a67984e2",
   "metadata": {},
   "outputs": [
    {
     "data": {
      "text/plain": [
       "0.0011912719927408661"
      ]
     },
     "execution_count": 62,
     "metadata": {},
     "output_type": "execute_result"
    }
   ],
   "source": [
    "alpha = lasscv.alpha_\n",
    "alpha"
   ]
  },
  {
   "cell_type": "code",
   "execution_count": 64,
   "id": "f5f4efce",
   "metadata": {},
   "outputs": [
    {
     "data": {
      "text/plain": [
       "Lasso(alpha=0.0011912719927408661)"
      ]
     },
     "execution_count": 64,
     "metadata": {},
     "output_type": "execute_result"
    }
   ],
   "source": [
    "lasso_reg = Lasso(alpha)\n",
    "lasso_reg.fit(X_train, y_train)"
   ]
  },
  {
   "cell_type": "code",
   "execution_count": 66,
   "id": "c876fb99",
   "metadata": {},
   "outputs": [
    {
     "data": {
      "text/plain": [
       "0.7455085796374232"
      ]
     },
     "execution_count": 66,
     "metadata": {},
     "output_type": "execute_result"
    }
   ],
   "source": [
    "lasso_reg.score(X_test, y_test)"
   ]
  },
  {
   "cell_type": "code",
   "execution_count": 67,
   "id": "b186a9d6",
   "metadata": {},
   "outputs": [
    {
     "data": {
      "text/plain": [
       "RidgeCV(alphas=array([7.38812858, 0.18799958, 7.95149396, 3.22670955, 5.42887451,\n",
       "       3.82635446, 0.75181858, 4.63372023, 6.01028331, 7.89941402,\n",
       "       9.82649741, 2.02024989, 1.28992936, 0.20369759, 7.69587268,\n",
       "       2.33989116, 5.7612985 , 3.50635716, 7.11738719, 3.40645758,\n",
       "       0.43264368, 1.03766108, 0.56721678, 3.78784517, 6.97428967,\n",
       "       7.86026028, 9.3879058 , 2.050151  , 5.86308448, 4.60961708,\n",
       "       9.99493652, 3.83022048, 1.01208021, 1.38776149, 8.00213821,\n",
       "       5.45486113, 3.11305543, 4.41305668, 4.42214226, 7.50754332,\n",
       "       2.09728688, 1.13838216, 5.34869314, 9.12626442, 6.27752713,\n",
       "       8.77296045, 6.66370305, 8.94366113, 2.34568995, 6.02815572]),\n",
       "        cv=10, normalize=True)"
      ]
     },
     "execution_count": 67,
     "metadata": {},
     "output_type": "execute_result"
    }
   ],
   "source": [
    "alphas = np.random.uniform(low=0, high=10, size=(50,))\n",
    "ridgecv = RidgeCV(alphas = alphas,cv=10,normalize = True)\n",
    "ridgecv.fit(X_train, y_train)"
   ]
  },
  {
   "cell_type": "code",
   "execution_count": 68,
   "id": "8bedcee7",
   "metadata": {},
   "outputs": [
    {
     "data": {
      "text/plain": [
       "0.1879995806117163"
      ]
     },
     "execution_count": 68,
     "metadata": {},
     "output_type": "execute_result"
    }
   ],
   "source": [
    "ridgecv.alpha_"
   ]
  },
  {
   "cell_type": "code",
   "execution_count": 69,
   "id": "600694a7",
   "metadata": {},
   "outputs": [
    {
     "data": {
      "text/plain": [
       "Ridge(alpha=0.1879995806117163)"
      ]
     },
     "execution_count": 69,
     "metadata": {},
     "output_type": "execute_result"
    }
   ],
   "source": [
    "ridge_model = Ridge(alpha=ridgecv.alpha_)\n",
    "ridge_model.fit(X_train, y_train)"
   ]
  },
  {
   "cell_type": "code",
   "execution_count": 71,
   "id": "35e00d5f",
   "metadata": {},
   "outputs": [
    {
     "data": {
      "text/plain": [
       "0.7469127854842226"
      ]
     },
     "execution_count": 71,
     "metadata": {},
     "output_type": "execute_result"
    }
   ],
   "source": [
    "ridge_model.score(X_test, y_test)"
   ]
  },
  {
   "cell_type": "code",
   "execution_count": 72,
   "id": "7cae3405",
   "metadata": {},
   "outputs": [
    {
     "data": {
      "text/plain": [
       "ElasticNetCV(cv=10)"
      ]
     },
     "execution_count": 72,
     "metadata": {},
     "output_type": "execute_result"
    }
   ],
   "source": [
    "elasticCV = ElasticNetCV(alphas = None, cv =10)\n",
    "\n",
    "elasticCV.fit(X_train, y_train)"
   ]
  },
  {
   "cell_type": "code",
   "execution_count": 75,
   "id": "1ac60ec9",
   "metadata": {},
   "outputs": [
    {
     "data": {
      "text/plain": [
       "1.452919860797962"
      ]
     },
     "execution_count": 75,
     "metadata": {},
     "output_type": "execute_result"
    }
   ],
   "source": [
    "elasticCV.alpha_\n"
   ]
  },
  {
   "cell_type": "code",
   "execution_count": 74,
   "id": "2ab99273",
   "metadata": {},
   "outputs": [
    {
     "data": {
      "text/plain": [
       "0.5"
      ]
     },
     "execution_count": 74,
     "metadata": {},
     "output_type": "execute_result"
    }
   ],
   "source": [
    "elasticCV.l1_ratio"
   ]
  },
  {
   "cell_type": "code",
   "execution_count": 76,
   "id": "67aa9eff",
   "metadata": {},
   "outputs": [
    {
     "data": {
      "text/plain": [
       "ElasticNet(alpha=1.452919860797962)"
      ]
     },
     "execution_count": 76,
     "metadata": {},
     "output_type": "execute_result"
    }
   ],
   "source": [
    "elasticnet_reg = ElasticNet(alpha = elasticCV.alpha_,l1_ratio=0.5)\n",
    "elasticnet_reg.fit(X_train, y_train)"
   ]
  },
  {
   "cell_type": "code",
   "execution_count": 77,
   "id": "92a14194",
   "metadata": {},
   "outputs": [
    {
     "data": {
      "text/plain": [
       "0.6593990122912702"
      ]
     },
     "execution_count": 77,
     "metadata": {},
     "output_type": "execute_result"
    }
   ],
   "source": [
    "elasticnet_reg.score(X_test, y_test)"
   ]
  },
  {
   "cell_type": "code",
   "execution_count": null,
   "id": "3620e2f7",
   "metadata": {},
   "outputs": [],
   "source": []
  }
 ],
 "metadata": {
  "kernelspec": {
   "display_name": "Python 3",
   "language": "python",
   "name": "python3"
  },
  "language_info": {
   "codemirror_mode": {
    "name": "ipython",
    "version": 3
   },
   "file_extension": ".py",
   "mimetype": "text/x-python",
   "name": "python",
   "nbconvert_exporter": "python",
   "pygments_lexer": "ipython3",
   "version": "3.8.8"
  }
 },
 "nbformat": 4,
 "nbformat_minor": 5
}
